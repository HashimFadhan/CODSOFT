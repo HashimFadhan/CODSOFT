{
  "nbformat": 4,
  "nbformat_minor": 0,
  "metadata": {
    "colab": {
      "provenance": [],
      "mount_file_id": "1CGneJZAvMcIeffbHDCT-plCm5gKj5B7T",
      "authorship_tag": "ABX9TyOCJ8IXbtnqLjtfG49N298H",
      "include_colab_link": true
    },
    "kernelspec": {
      "name": "python3",
      "display_name": "Python 3"
    },
    "language_info": {
      "name": "python"
    }
  },
  "cells": [
    {
      "cell_type": "markdown",
      "metadata": {
        "id": "view-in-github",
        "colab_type": "text"
      },
      "source": [
        "<a href=\"https://colab.research.google.com/github/HashimFadhan/CODSOFT/blob/main/Sales_Prediction_using_Python.ipynb\" target=\"_parent\"><img src=\"https://colab.research.google.com/assets/colab-badge.svg\" alt=\"Open In Colab\"/></a>"
      ]
    },
    {
      "cell_type": "code",
      "execution_count": 1,
      "metadata": {
        "colab": {
          "base_uri": "https://localhost:8080/",
          "height": 1000
        },
        "id": "lgFziyEb2EQW",
        "outputId": "94a31259-7096-4339-c11e-60997a1af0b8"
      },
      "outputs": [
        {
          "output_type": "stream",
          "name": "stdout",
          "text": [
            "<class 'pandas.core.frame.DataFrame'>\n",
            "RangeIndex: 200 entries, 0 to 199\n",
            "Data columns (total 5 columns):\n",
            " #   Column      Non-Null Count  Dtype  \n",
            "---  ------      --------------  -----  \n",
            " 0   Unnamed: 0  200 non-null    int64  \n",
            " 1   TV          200 non-null    float64\n",
            " 2   Radio       200 non-null    float64\n",
            " 3   Newspaper   200 non-null    float64\n",
            " 4   Sales       200 non-null    float64\n",
            "dtypes: float64(4), int64(1)\n",
            "memory usage: 7.9 KB\n"
          ]
        },
        {
          "output_type": "display_data",
          "data": {
            "text/plain": [
              "<Figure size 1200x900 with 2 Axes>"
            ],
            "image/png": "[encoded data removed]"
          },
          "metadata": {}
        },
        {
          "output_type": "stream",
          "name": "stdout",
          "text": [
            "Intercept    2.938889\n",
            "TV           0.045765\n",
            "Radio        0.188530\n",
            "Newspaper   -0.001037\n",
            "dtype: float64 \n",
            "\n",
            "                            OLS Regression Results                            \n",
            "==============================================================================\n",
            "Dep. Variable:                  Sales   R-squared:                       0.897\n",
            "Model:                            OLS   Adj. R-squared:                  0.896\n",
            "Method:                 Least Squares   F-statistic:                     570.3\n",
            "Date:                Sat, 17 Aug 2024   Prob (F-statistic):           1.58e-96\n",
            "Time:                        05:51:26   Log-Likelihood:                -386.18\n",
            "No. Observations:                 200   AIC:                             780.4\n",
            "Df Residuals:                     196   BIC:                             793.6\n",
            "Df Model:                           3                                         \n",
            "Covariance Type:            nonrobust                                         \n",
            "==============================================================================\n",
            "                 coef    std err          t      P>|t|      [0.025      0.975]\n",
            "------------------------------------------------------------------------------\n",
            "Intercept      2.9389      0.312      9.422      0.000       2.324       3.554\n",
            "TV             0.0458      0.001     32.809      0.000       0.043       0.049\n",
            "Radio          0.1885      0.009     21.893      0.000       0.172       0.206\n",
            "Newspaper     -0.0010      0.006     -0.177      0.860      -0.013       0.011\n",
            "==============================================================================\n",
            "Omnibus:                       60.414   Durbin-Watson:                   2.084\n",
            "Prob(Omnibus):                  0.000   Jarque-Bera (JB):              151.241\n",
            "Skew:                          -1.327   Prob(JB):                     1.44e-33\n",
            "Kurtosis:                       6.332   Cond. No.                         454.\n",
            "==============================================================================\n",
            "\n",
            "Notes:\n",
            "[1] Standard Errors assume that the covariance matrix of the errors is correctly specified.\n",
            "LinearRegression: 1.703648\n",
            "Predicted Sales: 0    16.915917\n",
            "dtype: float64\n",
            "Predicted Sales: 0    15.877397\n",
            "dtype: float64\n"
          ]
        }
      ],
      "source": [
        "import numpy as np\n",
        "import pandas as pd\n",
        "import seaborn as sns\n",
        "import matplotlib.pyplot as plt\n",
        "import os\n",
        "import statsmodels.formula.api as sm\n",
        "from sklearn.linear_model import LinearRegression, Ridge, Lasso, ElasticNet\n",
        "from sklearn.metrics import mean_squared_error, r2_score\n",
        "from sklearn.model_selection import train_test_split\n",
        "from sklearn.model_selection import cross_val_score\n",
        "from sklearn.model_selection import GridSearchCV\n",
        "import warnings\n",
        "\n",
        "warnings.simplefilter(action='ignore', category=FutureWarning)\n",
        "os.getcwd()\n",
        "\n",
        "df = pd.read_csv(\"/content/drive/MyDrive/advertising/Advertising.csv\")\n",
        "df.head()\n",
        "df.columns\n",
        "df.shape\n",
        "df.info()\n",
        "\n",
        "df.isnull().values.any()\n",
        "df.isnull().sum()\n",
        "\n",
        "corrmat = df.corr()\n",
        "f, ax = plt.subplots(figsize=(12, 9))\n",
        "sns.heatmap(corrmat, vmin=0, vmax=1, square=True, cmap=\"YlGnBu\", ax=ax)\n",
        "plt.show()\n",
        "\n",
        "X = df.drop('Sales', axis=1)\n",
        "y = df[[\"Sales\"]]\n",
        "\n",
        "X_train, X_test, y_train, y_test = train_test_split(X, y, test_size=0.20, random_state=46)\n",
        "lin_model = sm.ols(formula=\"Sales ~ TV + Radio + Newspaper\", data=df).fit()\n",
        "print(lin_model.params, \"\\n\")\n",
        "\n",
        "print(lin_model.summary())\n",
        "\n",
        "results = []\n",
        "names = []\n",
        "\n",
        "models = [('LinearRegression', LinearRegression())]\n",
        "for name, model in models:\n",
        "    model.fit(X_train, y_train)\n",
        "    y_pred = model.predict(X_test)\n",
        "    result = np.sqrt(mean_squared_error(y_test, y_pred))\n",
        "    results.append(result)\n",
        "    names.append(name)\n",
        "    msg = \"%s: %f\" % (name, result)\n",
        "    print(msg)\n",
        "\n",
        "new_data = pd.DataFrame({'TV': [100], 'Radio': [50], 'Newspaper': [25]})\n",
        "predicted_sales = lin_model.predict(new_data)\n",
        "print(\"Predicted Sales:\", predicted_sales)\n",
        "\n",
        "new_data = pd.DataFrame({'TV': [25], 'Radio': [63], 'Newspaper': [80]})\n",
        "predicted_sales = lin_model.predict(new_data)\n",
        "print(\"Predicted Sales:\", predicted_sales)"
      ]
    },
    {
      "cell_type": "code",
      "source": [
        "from google.colab import drive\n",
        "drive.mount('/content/drive')"
      ],
      "metadata": {
        "id": "V0ZtLZ-I4rbI"
      },
      "execution_count": null,
      "outputs": []
    }
  ]
}